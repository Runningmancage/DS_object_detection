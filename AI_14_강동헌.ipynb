{
  "nbformat": 4,
  "nbformat_minor": 0,
  "metadata": {
    "colab": {
      "private_outputs": true,
      "provenance": []
    },
    "kernelspec": {
      "name": "python3",
      "display_name": "Python 3"
    },
    "language_info": {
      "name": "python"
    },
    "accelerator": "GPU"
  },
  "cells": [
    {
      "cell_type": "code",
      "execution_count": null,
      "metadata": {
        "id": "srqvfPEAXKd8"
      },
      "outputs": [],
      "source": [
        "%cd /content\n",
        "!git clone https://github.com/ultralytics/yolov5.git"
      ]
    },
    {
      "cell_type": "code",
      "source": [
        "%cd /content/yolov5/\n",
        "!pip install -r requirements.txt"
      ],
      "metadata": {
        "id": "m54MPMjTYMbI"
      },
      "execution_count": null,
      "outputs": []
    },
    {
      "cell_type": "code",
      "source": [
        "%cat /content/drive/MyDrive/dataset/dataset.yaml"
      ],
      "metadata": {
        "id": "PjFlVk1ZYyuL"
      },
      "execution_count": null,
      "outputs": []
    },
    {
      "cell_type": "code",
      "source": [
        "%cd /\n",
        "from glob import glob\n",
        "img_list_test = glob('/content/drive/MyDrive/dataset/obj_train_data/images/test/*.jpg')\n",
        "img_list_train = glob('/content/drive/MyDrive/dataset/obj_train_data/images/train/*.jpg')\n",
        "print(len(img_list_test))\n",
        "print(len(img_list_train))"
      ],
      "metadata": {
        "id": "tdvOsN0oZo8Q"
      },
      "execution_count": null,
      "outputs": []
    },
    {
      "cell_type": "code",
      "source": [
        "with open('/content/drive/MyDrive/dataset/obj_train_data/train.txt', 'w') as f:\n",
        "  f.write('\\n'.join(img_list_train)+'\\n')\n",
        "\n",
        "with open('/content/drive/MyDrive/dataset/obj_train_data/test.txt', 'w') as f:\n",
        "  f.write('\\n'.join(img_list_test)+'\\n')"
      ],
      "metadata": {
        "id": "w5NWYWhCbWfk"
      },
      "execution_count": null,
      "outputs": []
    },
    {
      "cell_type": "code",
      "source": [
        "# !pip install pyyaml==5.4.1"
      ],
      "metadata": {
        "id": "4tWIoQNUd1wk"
      },
      "execution_count": null,
      "outputs": []
    },
    {
      "cell_type": "code",
      "source": [
        "import yaml\n",
        "\n",
        "with open('/content/drive/MyDrive/dataset/dataset.yaml', 'r') as f:\n",
        "  # data = yaml.load(f,Loader=yaml.FullLoader) #검색해보니 위에처럼 다운그레이드 안시켜도 data = yaml.safe_load(f) 로 로드하면 된다고 함\n",
        "  data = yaml.safe_load(f) # 둘다 돌려보니 똑같이 나옴\n",
        "print(data)\n",
        "data['train']='/content/drive/MyDrive/dataset/obj_train_data/train.txt'\n",
        "data['val']='/content/drive/MyDrive/dataset/obj_train_data/test.txt'\n",
        "\n",
        "with open('/content/drive/MyDrive/dataset/dataset.yaml', 'w') as f:\n",
        "  yaml.dump(data, f)\n",
        "print(data)"
      ],
      "metadata": {
        "id": "wcWtfnvBcRoK"
      },
      "execution_count": null,
      "outputs": []
    },
    {
      "cell_type": "code",
      "source": [
        "%cd /content/yolov5/\n",
        "!python train.py --img 320 --batch 128 --epochs 5 --data /content/drive/MyDrive/dataset/dataset.yaml --cfg /content/yolov5/models/yolov5s.yaml --weights yolov5s.pt --name yolov5n_weapon_results"
      ],
      "metadata": {
        "id": "ekFb52fIdiGW"
      },
      "execution_count": null,
      "outputs": []
    },
    {
      "cell_type": "code",
      "source": [
        "%load_ext tensorboard\n",
        "%tensorboard --logdir /content/yolov5/runs/"
      ],
      "metadata": {
        "id": "2zHoQnn979js"
      },
      "execution_count": null,
      "outputs": []
    },
    {
      "cell_type": "code",
      "source": [
        "from IPython.display import Image\n",
        "import os\n",
        "\n",
        "\n",
        "\n",
        "Image(os.path.join('/content/yolov5/runs/train/yolov5n_weapon_results', os.path.basename('val_batch0_pred.jpg')))"
      ],
      "metadata": {
        "id": "lceFWt0AvG9R"
      },
      "execution_count": null,
      "outputs": []
    }
  ]
}